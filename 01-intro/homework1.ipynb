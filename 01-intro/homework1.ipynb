{
 "cells": [
  {
   "cell_type": "code",
   "id": "initial_id",
   "metadata": {
    "collapsed": true,
    "ExecuteTime": {
     "end_time": "2025-09-20T13:29:49.181494Z",
     "start_time": "2025-09-20T13:29:49.179120Z"
    }
   },
   "source": [
    "import pandas as pd\n",
    "import numpy as np"
   ],
   "outputs": [],
   "execution_count": 50
  },
  {
   "metadata": {},
   "cell_type": "markdown",
   "source": "### Q1. Pandas version",
   "id": "8d22931aa9473d0e"
  },
  {
   "metadata": {
    "ExecuteTime": {
     "end_time": "2025-09-19T13:07:28.818058Z",
     "start_time": "2025-09-19T13:07:28.805262Z"
    }
   },
   "cell_type": "code",
   "source": "pd.__version__",
   "id": "2d6847b8dbe976bf",
   "outputs": [
    {
     "data": {
      "text/plain": [
       "'2.3.2'"
      ]
     },
     "execution_count": 5,
     "metadata": {},
     "output_type": "execute_result"
    }
   ],
   "execution_count": 5
  },
  {
   "metadata": {
    "ExecuteTime": {
     "end_time": "2025-09-19T13:10:50.488108Z",
     "start_time": "2025-09-19T13:10:50.464429Z"
    }
   },
   "cell_type": "code",
   "source": "df = pd.read_csv('car_fuel_efficiency.csv')",
   "id": "f4ba402b73d0b91d",
   "outputs": [],
   "execution_count": 7
  },
  {
   "metadata": {
    "ExecuteTime": {
     "end_time": "2025-09-19T13:10:54.149876Z",
     "start_time": "2025-09-19T13:10:54.136487Z"
    }
   },
   "cell_type": "code",
   "source": "df.head()",
   "id": "323ce622de2d649f",
   "outputs": [
    {
     "data": {
      "text/plain": [
       "   engine_displacement  num_cylinders  horsepower  vehicle_weight  \\\n",
       "0                  170            3.0       159.0     3413.433759   \n",
       "1                  130            5.0        97.0     3149.664934   \n",
       "2                  170            NaN        78.0     3079.038997   \n",
       "3                  220            4.0         NaN     2542.392402   \n",
       "4                  210            1.0       140.0     3460.870990   \n",
       "\n",
       "   acceleration  model_year  origin fuel_type         drivetrain  num_doors  \\\n",
       "0          17.7        2003  Europe  Gasoline    All-wheel drive        0.0   \n",
       "1          17.8        2007     USA  Gasoline  Front-wheel drive        0.0   \n",
       "2          15.1        2018  Europe  Gasoline  Front-wheel drive        0.0   \n",
       "3          20.2        2009     USA    Diesel    All-wheel drive        2.0   \n",
       "4          14.4        2009  Europe  Gasoline    All-wheel drive        2.0   \n",
       "\n",
       "   fuel_efficiency_mpg  \n",
       "0            13.231729  \n",
       "1            13.688217  \n",
       "2            14.246341  \n",
       "3            16.912736  \n",
       "4            12.488369  "
      ],
      "text/html": [
       "<div>\n",
       "<style scoped>\n",
       "    .dataframe tbody tr th:only-of-type {\n",
       "        vertical-align: middle;\n",
       "    }\n",
       "\n",
       "    .dataframe tbody tr th {\n",
       "        vertical-align: top;\n",
       "    }\n",
       "\n",
       "    .dataframe thead th {\n",
       "        text-align: right;\n",
       "    }\n",
       "</style>\n",
       "<table border=\"1\" class=\"dataframe\">\n",
       "  <thead>\n",
       "    <tr style=\"text-align: right;\">\n",
       "      <th></th>\n",
       "      <th>engine_displacement</th>\n",
       "      <th>num_cylinders</th>\n",
       "      <th>horsepower</th>\n",
       "      <th>vehicle_weight</th>\n",
       "      <th>acceleration</th>\n",
       "      <th>model_year</th>\n",
       "      <th>origin</th>\n",
       "      <th>fuel_type</th>\n",
       "      <th>drivetrain</th>\n",
       "      <th>num_doors</th>\n",
       "      <th>fuel_efficiency_mpg</th>\n",
       "    </tr>\n",
       "  </thead>\n",
       "  <tbody>\n",
       "    <tr>\n",
       "      <th>0</th>\n",
       "      <td>170</td>\n",
       "      <td>3.0</td>\n",
       "      <td>159.0</td>\n",
       "      <td>3413.433759</td>\n",
       "      <td>17.7</td>\n",
       "      <td>2003</td>\n",
       "      <td>Europe</td>\n",
       "      <td>Gasoline</td>\n",
       "      <td>All-wheel drive</td>\n",
       "      <td>0.0</td>\n",
       "      <td>13.231729</td>\n",
       "    </tr>\n",
       "    <tr>\n",
       "      <th>1</th>\n",
       "      <td>130</td>\n",
       "      <td>5.0</td>\n",
       "      <td>97.0</td>\n",
       "      <td>3149.664934</td>\n",
       "      <td>17.8</td>\n",
       "      <td>2007</td>\n",
       "      <td>USA</td>\n",
       "      <td>Gasoline</td>\n",
       "      <td>Front-wheel drive</td>\n",
       "      <td>0.0</td>\n",
       "      <td>13.688217</td>\n",
       "    </tr>\n",
       "    <tr>\n",
       "      <th>2</th>\n",
       "      <td>170</td>\n",
       "      <td>NaN</td>\n",
       "      <td>78.0</td>\n",
       "      <td>3079.038997</td>\n",
       "      <td>15.1</td>\n",
       "      <td>2018</td>\n",
       "      <td>Europe</td>\n",
       "      <td>Gasoline</td>\n",
       "      <td>Front-wheel drive</td>\n",
       "      <td>0.0</td>\n",
       "      <td>14.246341</td>\n",
       "    </tr>\n",
       "    <tr>\n",
       "      <th>3</th>\n",
       "      <td>220</td>\n",
       "      <td>4.0</td>\n",
       "      <td>NaN</td>\n",
       "      <td>2542.392402</td>\n",
       "      <td>20.2</td>\n",
       "      <td>2009</td>\n",
       "      <td>USA</td>\n",
       "      <td>Diesel</td>\n",
       "      <td>All-wheel drive</td>\n",
       "      <td>2.0</td>\n",
       "      <td>16.912736</td>\n",
       "    </tr>\n",
       "    <tr>\n",
       "      <th>4</th>\n",
       "      <td>210</td>\n",
       "      <td>1.0</td>\n",
       "      <td>140.0</td>\n",
       "      <td>3460.870990</td>\n",
       "      <td>14.4</td>\n",
       "      <td>2009</td>\n",
       "      <td>Europe</td>\n",
       "      <td>Gasoline</td>\n",
       "      <td>All-wheel drive</td>\n",
       "      <td>2.0</td>\n",
       "      <td>12.488369</td>\n",
       "    </tr>\n",
       "  </tbody>\n",
       "</table>\n",
       "</div>"
      ]
     },
     "execution_count": 8,
     "metadata": {},
     "output_type": "execute_result"
    }
   ],
   "execution_count": 8
  },
  {
   "metadata": {},
   "cell_type": "markdown",
   "source": "### Q2. Records count",
   "id": "f8f0f994b154097"
  },
  {
   "metadata": {
    "ExecuteTime": {
     "end_time": "2025-09-19T13:12:04.477293Z",
     "start_time": "2025-09-19T13:12:04.473603Z"
    }
   },
   "cell_type": "code",
   "source": "df.shape[0]",
   "id": "a8460ff39bf5b0c2",
   "outputs": [
    {
     "data": {
      "text/plain": [
       "9704"
      ]
     },
     "execution_count": 11,
     "metadata": {},
     "output_type": "execute_result"
    }
   ],
   "execution_count": 11
  },
  {
   "metadata": {},
   "cell_type": "markdown",
   "source": "### Q3. Fuel types",
   "id": "439951ea009ae89"
  },
  {
   "metadata": {
    "ExecuteTime": {
     "end_time": "2025-09-19T13:13:51.588538Z",
     "start_time": "2025-09-19T13:13:51.573572Z"
    }
   },
   "cell_type": "code",
   "source": "df['fuel_type'].value_counts()",
   "id": "3464fa4fe44ac4a4",
   "outputs": [
    {
     "data": {
      "text/plain": [
       "fuel_type\n",
       "Gasoline    4898\n",
       "Diesel      4806\n",
       "Name: count, dtype: int64"
      ]
     },
     "execution_count": 15,
     "metadata": {},
     "output_type": "execute_result"
    }
   ],
   "execution_count": 15
  },
  {
   "metadata": {
    "ExecuteTime": {
     "end_time": "2025-09-19T13:13:55.078686Z",
     "start_time": "2025-09-19T13:13:55.073585Z"
    }
   },
   "cell_type": "code",
   "source": "df['fuel_type'].unique()",
   "id": "aaa62ca22f0fff9e",
   "outputs": [
    {
     "data": {
      "text/plain": [
       "array(['Gasoline', 'Diesel'], dtype=object)"
      ]
     },
     "execution_count": 16,
     "metadata": {},
     "output_type": "execute_result"
    }
   ],
   "execution_count": 16
  },
  {
   "metadata": {},
   "cell_type": "markdown",
   "source": "### Q4. Missing values",
   "id": "6bcc82d1fcf2a1bf"
  },
  {
   "metadata": {
    "ExecuteTime": {
     "end_time": "2025-09-19T13:17:09.103131Z",
     "start_time": "2025-09-19T13:17:09.080929Z"
    }
   },
   "cell_type": "code",
   "source": "df.info()",
   "id": "879bdadd8a15decf",
   "outputs": [
    {
     "name": "stdout",
     "output_type": "stream",
     "text": [
      "<class 'pandas.core.frame.DataFrame'>\n",
      "RangeIndex: 9704 entries, 0 to 9703\n",
      "Data columns (total 11 columns):\n",
      " #   Column               Non-Null Count  Dtype  \n",
      "---  ------               --------------  -----  \n",
      " 0   engine_displacement  9704 non-null   int64  \n",
      " 1   num_cylinders        9222 non-null   float64\n",
      " 2   horsepower           8996 non-null   float64\n",
      " 3   vehicle_weight       9704 non-null   float64\n",
      " 4   acceleration         8774 non-null   float64\n",
      " 5   model_year           9704 non-null   int64  \n",
      " 6   origin               9704 non-null   object \n",
      " 7   fuel_type            9704 non-null   object \n",
      " 8   drivetrain           9704 non-null   object \n",
      " 9   num_doors            9202 non-null   float64\n",
      " 10  fuel_efficiency_mpg  9704 non-null   float64\n",
      "dtypes: float64(6), int64(2), object(3)\n",
      "memory usage: 834.1+ KB\n"
     ]
    }
   ],
   "execution_count": 18
  },
  {
   "metadata": {},
   "cell_type": "markdown",
   "source": "### Q5. Max fuel efficiency",
   "id": "fad63018685dbd58"
  },
  {
   "metadata": {
    "ExecuteTime": {
     "end_time": "2025-09-19T13:20:51.997051Z",
     "start_time": "2025-09-19T13:20:51.985791Z"
    }
   },
   "cell_type": "code",
   "source": "df[df['origin'] == 'Asia']['fuel_efficiency_mpg'].max()",
   "id": "c37240de260606f5",
   "outputs": [
    {
     "data": {
      "text/plain": [
       "23.759122836520497"
      ]
     },
     "execution_count": 20,
     "metadata": {},
     "output_type": "execute_result"
    }
   ],
   "execution_count": 20
  },
  {
   "metadata": {},
   "cell_type": "markdown",
   "source": "### Q6. Median value of horsepower",
   "id": "bf4e761d1ea35c08"
  },
  {
   "metadata": {
    "ExecuteTime": {
     "end_time": "2025-09-19T13:26:40.981364Z",
     "start_time": "2025-09-19T13:26:40.971807Z"
    }
   },
   "cell_type": "code",
   "source": [
    "# median 1\n",
    "df['horsepower'].median()"
   ],
   "id": "946bb8705748d8da",
   "outputs": [
    {
     "data": {
      "text/plain": [
       "149.0"
      ]
     },
     "execution_count": 31,
     "metadata": {},
     "output_type": "execute_result"
    }
   ],
   "execution_count": 31
  },
  {
   "metadata": {
    "ExecuteTime": {
     "end_time": "2025-09-19T13:26:48.024660Z",
     "start_time": "2025-09-19T13:26:48.019633Z"
    }
   },
   "cell_type": "code",
   "source": [
    "# most frequent value\n",
    "df['horsepower'].mode()"
   ],
   "id": "2e3fe88d5ab662eb",
   "outputs": [
    {
     "data": {
      "text/plain": [
       "0    152.0\n",
       "Name: horsepower, dtype: float64"
      ]
     },
     "execution_count": 32,
     "metadata": {},
     "output_type": "execute_result"
    }
   ],
   "execution_count": 32
  },
  {
   "metadata": {
    "ExecuteTime": {
     "end_time": "2025-09-19T13:27:07.121501Z",
     "start_time": "2025-09-19T13:27:07.115022Z"
    }
   },
   "cell_type": "code",
   "source": "df.fillna(value={'horsepower': 152})['horsepower'].median()",
   "id": "ca12ffec6bb90330",
   "outputs": [
    {
     "data": {
      "text/plain": [
       "152.0"
      ]
     },
     "execution_count": 33,
     "metadata": {},
     "output_type": "execute_result"
    }
   ],
   "execution_count": 33
  },
  {
   "metadata": {},
   "cell_type": "markdown",
   "source": "### Q7. Sum of weights",
   "id": "23126412f930af35"
  },
  {
   "metadata": {
    "ExecuteTime": {
     "end_time": "2025-09-20T13:26:21.233435Z",
     "start_time": "2025-09-20T13:26:21.229022Z"
    }
   },
   "cell_type": "code",
   "source": "X = df[df['origin'] == 'Asia'].loc[:, ['vehicle_weight', 'model_year']].iloc[0:7].to_numpy()",
   "id": "e60015c6052957f3",
   "outputs": [],
   "execution_count": 44
  },
  {
   "metadata": {
    "ExecuteTime": {
     "end_time": "2025-09-20T13:28:38.849439Z",
     "start_time": "2025-09-20T13:28:38.846362Z"
    }
   },
   "cell_type": "code",
   "source": "XTX = X.T @ X",
   "id": "be794e7fd6b29427",
   "outputs": [],
   "execution_count": 49
  },
  {
   "metadata": {
    "ExecuteTime": {
     "end_time": "2025-09-20T13:30:44.794747Z",
     "start_time": "2025-09-20T13:30:44.791748Z"
    }
   },
   "cell_type": "code",
   "source": "y = np.array([1100, 1300, 800, 900, 1000, 1100, 1200])",
   "id": "b30b16adc74fecae",
   "outputs": [],
   "execution_count": 53
  },
  {
   "metadata": {
    "ExecuteTime": {
     "end_time": "2025-09-20T13:32:19.454640Z",
     "start_time": "2025-09-20T13:32:19.451550Z"
    }
   },
   "cell_type": "code",
   "source": "w = (np.linalg.inv(XTX) @ X.T) @ y",
   "id": "482862d537e6e5af",
   "outputs": [],
   "execution_count": 57
  },
  {
   "metadata": {
    "ExecuteTime": {
     "end_time": "2025-09-20T13:32:45.068701Z",
     "start_time": "2025-09-20T13:32:45.064954Z"
    }
   },
   "cell_type": "code",
   "source": "w.sum()",
   "id": "fcc7778ee842d763",
   "outputs": [
    {
     "data": {
      "text/plain": [
       "np.float64(0.5187709081074025)"
      ]
     },
     "execution_count": 58,
     "metadata": {},
     "output_type": "execute_result"
    }
   ],
   "execution_count": 58
  },
  {
   "metadata": {},
   "cell_type": "code",
   "outputs": [],
   "execution_count": null,
   "source": "",
   "id": "3014cce3e0a26e56"
  }
 ],
 "metadata": {
  "kernelspec": {
   "display_name": "Python 3",
   "language": "python",
   "name": "python3"
  },
  "language_info": {
   "codemirror_mode": {
    "name": "ipython",
    "version": 2
   },
   "file_extension": ".py",
   "mimetype": "text/x-python",
   "name": "python",
   "nbconvert_exporter": "python",
   "pygments_lexer": "ipython2",
   "version": "2.7.6"
  }
 },
 "nbformat": 4,
 "nbformat_minor": 5
}
