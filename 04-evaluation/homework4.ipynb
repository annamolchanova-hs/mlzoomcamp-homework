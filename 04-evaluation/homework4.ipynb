{
 "cells": [
  {
   "cell_type": "code",
   "id": "initial_id",
   "metadata": {
    "collapsed": true,
    "ExecuteTime": {
     "end_time": "2025-10-16T12:31:34.822471Z",
     "start_time": "2025-10-16T12:31:33.386817Z"
    }
   },
   "source": [
    "import numpy as np\n",
    "import pandas as pd\n",
    "from sklearn.model_selection import train_test_split\n",
    "from sklearn.feature_extraction import DictVectorizer\n",
    "from sklearn.linear_model import LogisticRegression\n",
    "from sklearn.metrics import roc_auc_score\n",
    "from sklearn.model_selection import KFold\n",
    "\n",
    "import matplotlib.pyplot as plt"
   ],
   "outputs": [],
   "execution_count": 1
  },
  {
   "metadata": {
    "ExecuteTime": {
     "end_time": "2025-10-16T12:31:36.444685Z",
     "start_time": "2025-10-16T12:31:36.436703Z"
    }
   },
   "cell_type": "code",
   "source": "df = pd.read_csv('course_lead_scoring.csv')",
   "id": "d4b958d5b95990e8",
   "outputs": [],
   "execution_count": 2
  },
  {
   "metadata": {
    "ExecuteTime": {
     "end_time": "2025-10-16T12:31:37.589602Z",
     "start_time": "2025-10-16T12:31:37.578589Z"
    }
   },
   "cell_type": "code",
   "source": "df.head()",
   "id": "d544c5cbd2deea24",
   "outputs": [
    {
     "data": {
      "text/plain": [
       "    lead_source    industry  number_of_courses_viewed  annual_income  \\\n",
       "0      paid_ads         NaN                         1        79450.0   \n",
       "1  social_media      retail                         1        46992.0   \n",
       "2        events  healthcare                         5        78796.0   \n",
       "3      paid_ads      retail                         2        83843.0   \n",
       "4      referral   education                         3        85012.0   \n",
       "\n",
       "  employment_status       location  interaction_count  lead_score  converted  \n",
       "0        unemployed  south_america                  4        0.94          1  \n",
       "1          employed  south_america                  1        0.80          0  \n",
       "2        unemployed      australia                  3        0.69          1  \n",
       "3               NaN      australia                  1        0.87          0  \n",
       "4     self_employed         europe                  3        0.62          1  "
      ],
      "text/html": [
       "<div>\n",
       "<style scoped>\n",
       "    .dataframe tbody tr th:only-of-type {\n",
       "        vertical-align: middle;\n",
       "    }\n",
       "\n",
       "    .dataframe tbody tr th {\n",
       "        vertical-align: top;\n",
       "    }\n",
       "\n",
       "    .dataframe thead th {\n",
       "        text-align: right;\n",
       "    }\n",
       "</style>\n",
       "<table border=\"1\" class=\"dataframe\">\n",
       "  <thead>\n",
       "    <tr style=\"text-align: right;\">\n",
       "      <th></th>\n",
       "      <th>lead_source</th>\n",
       "      <th>industry</th>\n",
       "      <th>number_of_courses_viewed</th>\n",
       "      <th>annual_income</th>\n",
       "      <th>employment_status</th>\n",
       "      <th>location</th>\n",
       "      <th>interaction_count</th>\n",
       "      <th>lead_score</th>\n",
       "      <th>converted</th>\n",
       "    </tr>\n",
       "  </thead>\n",
       "  <tbody>\n",
       "    <tr>\n",
       "      <th>0</th>\n",
       "      <td>paid_ads</td>\n",
       "      <td>NaN</td>\n",
       "      <td>1</td>\n",
       "      <td>79450.0</td>\n",
       "      <td>unemployed</td>\n",
       "      <td>south_america</td>\n",
       "      <td>4</td>\n",
       "      <td>0.94</td>\n",
       "      <td>1</td>\n",
       "    </tr>\n",
       "    <tr>\n",
       "      <th>1</th>\n",
       "      <td>social_media</td>\n",
       "      <td>retail</td>\n",
       "      <td>1</td>\n",
       "      <td>46992.0</td>\n",
       "      <td>employed</td>\n",
       "      <td>south_america</td>\n",
       "      <td>1</td>\n",
       "      <td>0.80</td>\n",
       "      <td>0</td>\n",
       "    </tr>\n",
       "    <tr>\n",
       "      <th>2</th>\n",
       "      <td>events</td>\n",
       "      <td>healthcare</td>\n",
       "      <td>5</td>\n",
       "      <td>78796.0</td>\n",
       "      <td>unemployed</td>\n",
       "      <td>australia</td>\n",
       "      <td>3</td>\n",
       "      <td>0.69</td>\n",
       "      <td>1</td>\n",
       "    </tr>\n",
       "    <tr>\n",
       "      <th>3</th>\n",
       "      <td>paid_ads</td>\n",
       "      <td>retail</td>\n",
       "      <td>2</td>\n",
       "      <td>83843.0</td>\n",
       "      <td>NaN</td>\n",
       "      <td>australia</td>\n",
       "      <td>1</td>\n",
       "      <td>0.87</td>\n",
       "      <td>0</td>\n",
       "    </tr>\n",
       "    <tr>\n",
       "      <th>4</th>\n",
       "      <td>referral</td>\n",
       "      <td>education</td>\n",
       "      <td>3</td>\n",
       "      <td>85012.0</td>\n",
       "      <td>self_employed</td>\n",
       "      <td>europe</td>\n",
       "      <td>3</td>\n",
       "      <td>0.62</td>\n",
       "      <td>1</td>\n",
       "    </tr>\n",
       "  </tbody>\n",
       "</table>\n",
       "</div>"
      ]
     },
     "execution_count": 3,
     "metadata": {},
     "output_type": "execute_result"
    }
   ],
   "execution_count": 3
  },
  {
   "metadata": {},
   "cell_type": "markdown",
   "source": "### Data preparation",
   "id": "4fe9952bdb00a393"
  },
  {
   "metadata": {
    "ExecuteTime": {
     "end_time": "2025-10-16T12:31:40.678967Z",
     "start_time": "2025-10-16T12:31:40.673416Z"
    }
   },
   "cell_type": "code",
   "source": "df.isnull().sum()",
   "id": "7a2509ab1db68288",
   "outputs": [
    {
     "data": {
      "text/plain": [
       "lead_source                 128\n",
       "industry                    134\n",
       "number_of_courses_viewed      0\n",
       "annual_income               181\n",
       "employment_status           100\n",
       "location                     63\n",
       "interaction_count             0\n",
       "lead_score                    0\n",
       "converted                     0\n",
       "dtype: int64"
      ]
     },
     "execution_count": 4,
     "metadata": {},
     "output_type": "execute_result"
    }
   ],
   "execution_count": 4
  },
  {
   "metadata": {
    "ExecuteTime": {
     "end_time": "2025-10-16T12:31:41.519544Z",
     "start_time": "2025-10-16T12:31:41.513719Z"
    }
   },
   "cell_type": "code",
   "source": [
    "df = df.fillna({\n",
    "    'lead_source': 'NA',\n",
    "    'industry': 'NA',\n",
    "    'annual_income': 0.0,\n",
    "    'employment_status': 'NA',\n",
    "    'location': 'NA',\n",
    "})"
   ],
   "id": "227c281c1d0b6089",
   "outputs": [],
   "execution_count": 5
  },
  {
   "metadata": {
    "ExecuteTime": {
     "end_time": "2025-10-16T12:31:44.063568Z",
     "start_time": "2025-10-16T12:31:44.061417Z"
    }
   },
   "cell_type": "code",
   "source": "seed = 1",
   "id": "24b1c2b1204b5c4a",
   "outputs": [],
   "execution_count": 6
  },
  {
   "metadata": {
    "ExecuteTime": {
     "end_time": "2025-10-16T12:31:44.633490Z",
     "start_time": "2025-10-16T12:31:44.629312Z"
    }
   },
   "cell_type": "code",
   "source": "train_val_df, test_df = train_test_split(df, test_size=0.2, random_state=seed)",
   "id": "96200faa864f7159",
   "outputs": [],
   "execution_count": 7
  },
  {
   "metadata": {
    "ExecuteTime": {
     "end_time": "2025-10-16T12:31:45.232583Z",
     "start_time": "2025-10-16T12:31:45.228052Z"
    }
   },
   "cell_type": "code",
   "source": "train_df, val_df = train_test_split(train_val_df, test_size=0.25, random_state=seed)",
   "id": "7da0ecfc7377c89b",
   "outputs": [],
   "execution_count": 8
  },
  {
   "metadata": {
    "ExecuteTime": {
     "end_time": "2025-10-16T12:31:45.962109Z",
     "start_time": "2025-10-16T12:31:45.956821Z"
    }
   },
   "cell_type": "code",
   "source": [
    "train_df = train_df.reset_index(drop=True)\n",
    "val_df = val_df.reset_index(drop=True)\n",
    "test_df = test_df.reset_index(drop=True)\n",
    "\n",
    "y_train = train_df.converted.values\n",
    "y_val = val_df.converted.values\n",
    "y_test = test_df.converted.values\n",
    "\n",
    "del train_df['converted']\n",
    "del val_df['converted']\n",
    "del test_df['converted']"
   ],
   "id": "2e44ddb34a39d73e",
   "outputs": [],
   "execution_count": 9
  },
  {
   "metadata": {
    "ExecuteTime": {
     "end_time": "2025-10-16T12:31:48.143778Z",
     "start_time": "2025-10-16T12:31:48.140773Z"
    }
   },
   "cell_type": "code",
   "source": "len(train_df), len(val_df), len(test_df)",
   "id": "d307b090b1204c85",
   "outputs": [
    {
     "data": {
      "text/plain": [
       "(876, 293, 293)"
      ]
     },
     "execution_count": 10,
     "metadata": {},
     "output_type": "execute_result"
    }
   ],
   "execution_count": 10
  },
  {
   "metadata": {
    "ExecuteTime": {
     "end_time": "2025-10-16T12:31:49.110830Z",
     "start_time": "2025-10-16T12:31:49.108099Z"
    }
   },
   "cell_type": "code",
   "source": [
    "numerical = ['number_of_courses_viewed', 'annual_income', 'interaction_count', 'lead_score',]\n",
    "categorical = ['lead_source', 'industry', 'employment_status', 'location',]"
   ],
   "id": "d9188a1dd023f34f",
   "outputs": [],
   "execution_count": 11
  },
  {
   "metadata": {},
   "cell_type": "markdown",
   "source": "### Logistic Regression model",
   "id": "c0fe22481e708628"
  },
  {
   "metadata": {
    "ExecuteTime": {
     "end_time": "2025-10-16T12:31:52.807788Z",
     "start_time": "2025-10-16T12:31:52.803281Z"
    }
   },
   "cell_type": "code",
   "source": [
    "def train(df_train, y_train, C=1.0):\n",
    "    dicts = df_train.to_dict(orient='records')\n",
    "\n",
    "    dv = DictVectorizer(sparse=False)\n",
    "    X_train = dv.fit_transform(dicts)\n",
    "\n",
    "    model = LogisticRegression(solver='liblinear', C=C, max_iter=1000)\n",
    "    model.fit(X_train, y_train)\n",
    "\n",
    "    return dv, model"
   ],
   "id": "c329ac80c0a71d3e",
   "outputs": [],
   "execution_count": 12
  },
  {
   "metadata": {
    "ExecuteTime": {
     "end_time": "2025-10-16T12:31:55.720150Z",
     "start_time": "2025-10-16T12:31:55.716751Z"
    }
   },
   "cell_type": "code",
   "source": [
    "def predict(df, dv, model):\n",
    "    dicts = df.to_dict(orient='records')\n",
    "\n",
    "    X = dv.transform(dicts)\n",
    "    y_pred = model.predict_proba(X)[:, 1]\n",
    "\n",
    "    return y_pred"
   ],
   "id": "f071751c39e62897",
   "outputs": [],
   "execution_count": 13
  },
  {
   "metadata": {},
   "cell_type": "markdown",
   "source": "### Q1 ROC AUC feature importance",
   "id": "27e1dd5fc714d77c"
  },
  {
   "metadata": {
    "ExecuteTime": {
     "end_time": "2025-10-16T12:31:59.420698Z",
     "start_time": "2025-10-16T12:31:59.408684Z"
    }
   },
   "cell_type": "code",
   "source": [
    "for n_feature in numerical:\n",
    "    auc = roc_auc_score(y_train, train_df[n_feature])\n",
    "    if auc < 0.5:\n",
    "        auc = roc_auc_score(y_train, -train_df[n_feature])\n",
    "    print(f'{n_feature}: {auc}')\n"
   ],
   "id": "29ced7d7ae612e63",
   "outputs": [
    {
     "name": "stdout",
     "output_type": "stream",
     "text": [
      "number_of_courses_viewed: 0.7635680590007088\n",
      "annual_income: 0.5519578313253012\n",
      "interaction_count: 0.738270176293409\n",
      "lead_score: 0.6144993577250176\n"
     ]
    }
   ],
   "execution_count": 14
  },
  {
   "metadata": {},
   "cell_type": "markdown",
   "source": "### Q2 Training the model",
   "id": "b2d1a628103aaa37"
  },
  {
   "metadata": {
    "ExecuteTime": {
     "end_time": "2025-10-16T12:32:02.858102Z",
     "start_time": "2025-10-16T12:32:02.836666Z"
    }
   },
   "cell_type": "code",
   "source": [
    "dv, model = train(train_df, y_train)\n",
    "y_pred = predict(val_df, dv, model)\n",
    "auc = roc_auc_score(y_val, y_pred)\n",
    "print(f'{auc=} ({round(auc, 3)})')"
   ],
   "id": "33a350cbed7f4158",
   "outputs": [
    {
     "name": "stdout",
     "output_type": "stream",
     "text": [
      "auc=0.8171316268814112 (0.817)\n"
     ]
    }
   ],
   "execution_count": 15
  },
  {
   "metadata": {},
   "cell_type": "markdown",
   "source": "### Q3 Precision and Recall",
   "id": "60847db9472b512f"
  },
  {
   "metadata": {
    "ExecuteTime": {
     "end_time": "2025-10-16T12:36:40.625226Z",
     "start_time": "2025-10-16T12:36:40.619457Z"
    }
   },
   "cell_type": "code",
   "source": [
    "thresholds = np.arange(0, 1, 0.01)\n",
    "precisions = []\n",
    "recalls = []\n",
    "\n",
    "for t in thresholds:\n",
    "    y_pred_label = (y_pred >= t).astype(int)\n",
    "    tp = ((y_val == 1) & (y_pred_label == 1)).sum()\n",
    "    fp = ((y_val == 0) & (y_pred_label == 1)).sum()\n",
    "    fn = ((y_val == 1) & (y_pred_label == 0)).sum()\n",
    "    tn = ((y_val == 0) & (y_pred_label == 0)).sum()\n",
    "\n",
    "    precisions.append(tp / (tp + fp) if tp + fp > 0 else 1)\n",
    "    recalls.append(tp / (tp + fn))"
   ],
   "id": "1d47cedd8c449548",
   "outputs": [],
   "execution_count": 20
  },
  {
   "metadata": {
    "ExecuteTime": {
     "end_time": "2025-10-16T12:36:31.906485Z",
     "start_time": "2025-10-16T12:36:31.816061Z"
    }
   },
   "cell_type": "code",
   "source": [
    "plt.figure(figsize=(5, 5))\n",
    "\n",
    "plt.plot(thresholds, precisions, label='precision')\n",
    "plt.plot(thresholds, recalls, label='recall')\n",
    "\n",
    "plt.legend()"
   ],
   "id": "23ab399d58837357",
   "outputs": [
    {
     "data": {
      "text/plain": [
       "<matplotlib.legend.Legend at 0x148554050>"
      ]
     },
     "execution_count": 19,
     "metadata": {},
     "output_type": "execute_result"
    },
    {
     "data": {
      "text/plain": [
       "<Figure size 500x500 with 1 Axes>"
      ],
      "image/png": "[encoded data removed]"
     },
     "metadata": {},
     "output_type": "display_data"
    }
   ],
   "execution_count": 19
  },
  {
   "metadata": {},
   "cell_type": "markdown",
   "source": "### Q4 F1 Score",
   "id": "8f5f62518dec733f"
  },
  {
   "metadata": {
    "ExecuteTime": {
     "end_time": "2025-10-16T12:36:45.656608Z",
     "start_time": "2025-10-16T12:36:45.652276Z"
    }
   },
   "cell_type": "code",
   "source": [
    "f1_scores = [(t, 2*p*r/(p+r)) for t, p, r in zip(thresholds, precisions, recalls)]\n",
    "max(f1_scores, key=lambda item: item[1])"
   ],
   "id": "6e39a5f14d47c1ce",
   "outputs": [
    {
     "data": {
      "text/plain": [
       "(np.float64(0.5700000000000001), np.float64(0.8124999999999999))"
      ]
     },
     "execution_count": 21,
     "metadata": {},
     "output_type": "execute_result"
    }
   ],
   "execution_count": 21
  },
  {
   "metadata": {},
   "cell_type": "markdown",
   "source": "### Q5 5-Fold CV",
   "id": "8d28868b6667a6e5"
  },
  {
   "metadata": {
    "ExecuteTime": {
     "end_time": "2025-10-16T12:36:47.987996Z",
     "start_time": "2025-10-16T12:36:47.934334Z"
    }
   },
   "cell_type": "code",
   "source": [
    "kfold = KFold(n_splits=5, shuffle=True, random_state=1)\n",
    "scores = []\n",
    "\n",
    "for train_idx, val_idx in kfold.split(train_val_df):\n",
    "    df_train_tmp = train_val_df.iloc[train_idx]\n",
    "    df_val_tmp = train_val_df.iloc[val_idx]\n",
    "\n",
    "    y_train_tmp = df_train_tmp.converted.values\n",
    "    y_val_tmp = df_val_tmp.converted.values\n",
    "\n",
    "    del df_train_tmp['converted']\n",
    "    del df_val_tmp['converted']\n",
    "\n",
    "    dv, model = train(df_train_tmp, y_train_tmp)\n",
    "    y_pred_tmp = predict(df_val_tmp, dv, model)\n",
    "\n",
    "    auc = roc_auc_score(y_val_tmp, y_pred_tmp)\n",
    "    scores.append(auc)\n",
    "\n",
    "print(np.std(scores))"
   ],
   "id": "8dc2e6490064cc72",
   "outputs": [
    {
     "name": "stdout",
     "output_type": "stream",
     "text": [
      "0.03580711942905165\n"
     ]
    }
   ],
   "execution_count": 22
  },
  {
   "metadata": {},
   "cell_type": "markdown",
   "source": "### Q6 Hyperparameter Tuning",
   "id": "3f345ed1b91b2812"
  },
  {
   "metadata": {
    "ExecuteTime": {
     "end_time": "2025-10-16T12:36:56.108448Z",
     "start_time": "2025-10-16T12:36:56.001754Z"
    }
   },
   "cell_type": "code",
   "source": [
    "for C in [0.000001, 0.001, 1]:\n",
    "    kfold = KFold(n_splits=5, shuffle=True, random_state=1)\n",
    "    scores = []\n",
    "\n",
    "    for train_idx, val_idx in kfold.split(train_val_df):\n",
    "        df_train_tmp = train_val_df.iloc[train_idx]\n",
    "        df_val_tmp = train_val_df.iloc[val_idx]\n",
    "\n",
    "        y_train_tmp = df_train_tmp.converted.values\n",
    "        y_val_tmp = df_val_tmp.converted.values\n",
    "\n",
    "        del df_train_tmp['converted']\n",
    "        del df_val_tmp['converted']\n",
    "\n",
    "        dv, model = train(df_train_tmp, y_train_tmp, C=C)\n",
    "        y_pred_tmp = predict(df_val_tmp, dv, model)\n",
    "\n",
    "        auc = roc_auc_score(y_val_tmp, y_pred_tmp)\n",
    "        scores.append(auc)\n",
    "\n",
    "    print(f'{C=}, {np.mean(scores)=} {np.std(scores)=}')"
   ],
   "id": "83d61d7b8981a32f",
   "outputs": [
    {
     "name": "stdout",
     "output_type": "stream",
     "text": [
      "C=1e-06, np.mean(scores)=np.float64(0.560207852870275) np.std(scores)=np.float64(0.023798316620649906)\n",
      "C=0.001, np.mean(scores)=np.float64(0.8668780317675395) np.std(scores)=np.float64(0.028746230508215103)\n",
      "C=1, np.mean(scores)=np.float64(0.8221089148573075) np.std(scores)=np.float64(0.03580711942905165)\n"
     ]
    }
   ],
   "execution_count": 23
  },
  {
   "metadata": {},
   "cell_type": "code",
   "outputs": [],
   "execution_count": null,
   "source": "",
   "id": "3b38d6de82218679"
  }
 ],
 "metadata": {
  "kernelspec": {
   "display_name": "Python 3 (ipykernel)",
   "language": "python",
   "name": "python3"
  },
  "language_info": {
   "codemirror_mode": {
    "name": "ipython",
    "version": 2
   },
   "file_extension": ".py",
   "mimetype": "text/x-python",
   "name": "python",
   "nbconvert_exporter": "python",
   "pygments_lexer": "ipython2",
   "version": "2.7.6"
  }
 },
 "nbformat": 4,
 "nbformat_minor": 5
}
